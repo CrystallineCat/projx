{
 "cells": [
  {
   "cell_type": "markdown",
   "metadata": {},
   "source": [
    "# IPython Graphs \n",
    "\n",
    "## This notebook uses: Neo4j 2.1.6, Titan 0.9.0-M1(Berkeley DB) w/TP3 Gremlin Server 3.0.0-M7, ipython-cypher 0.2.1, projx 0.3.6(dev), Pandas 0.15.2, NetworkX 1.9, and gizmo 0.1.7(dev)\n",
    "\n",
    "### This notebook is <em>NOT</em> meant to be a benchmark!!! It's just an example that plays around with some code that I've been working on using some libraries and DBs that I like."
   ]
  },
  {
   "cell_type": "code",
   "execution_count": 1,
   "metadata": {
    "collapsed": false
   },
   "outputs": [],
   "source": [
    "%matplotlib inline\n",
    "%load_ext cypher"
   ]
  },
  {
   "cell_type": "code",
   "execution_count": 2,
   "metadata": {
    "collapsed": false
   },
   "outputs": [],
   "source": [
    "import asyncio\n",
    "import networkx as nx\n",
    "import pandas as pd\n",
    "import projx as px\n",
    "import matplotlib.pyplot as plt\n",
    "from datetime import datetime\n",
    "from gizmo import AsyncGremlinClient"
   ]
  },
  {
   "cell_type": "code",
   "execution_count": 3,
   "metadata": {
    "collapsed": false
   },
   "outputs": [],
   "source": [
    "plt.rcParams['figure.figsize'] = 12, 7"
   ]
  },
  {
   "cell_type": "markdown",
   "metadata": {},
   "source": [
    "#### Load a bipartite network stored as an edgelist into Neo4j with projx using a Cypher MERGE.\n",
    "\n",
    "Fire up the Neo4j server first:\n",
    "\n",
    "```bash\n",
    "./neo4j-community-2.1.6/bin/neo4j console\n",
    "```"
   ]
  },
  {
   "cell_type": "code",
   "execution_count": 4,
   "metadata": {
    "collapsed": false
   },
   "outputs": [],
   "source": [
    "# The arXiv cond-mat data set: http://konect.uni-koblenz.de/networks/opsahl-collaboration\n",
    "arXiv_condmat_etl = {\n",
    "    \"extractor\": {\n",
    "        \"edgelist\": {\n",
    "            \"filename\": \"data/opsahl-collaboration/out.opsahl-collaboration\",\n",
    "            \"delim\": \" \",\n",
    "            \"pattern\": [\n",
    "                {\"node\": {\"alias\": \"n\"}},\n",
    "                {\"edge\": {}},\n",
    "                {\"node\": {\"alias\": \"m\"}}\n",
    "            ]\n",
    "        }\n",
    "    },\n",
    "    \"transformers\": [\n",
    "        {\n",
    "            \"edge\": {\n",
    "                \"pattern\": [\n",
    "                    {\"node\": {\"alias\": \"n\", \"label\": \"Author\"}},\n",
    "                    {\"edge\": {\"label\": \"IN\"}},\n",
    "                    {\"node\": {\"alias\": \"m\", \"label\": \"Paper\"}}\n",
    "                ]\n",
    "            }\n",
    "        }\n",
    "    ],\n",
    "    \"loader\": {\n",
    "        \"edgelist2neo4j\": {\n",
    "            \"uri\": \"http://localhost:7474/db/data\",\n",
    "            \"stmt_per_req\": 500,\n",
    "            \"req_per_tx\": 25,\n",
    "            \"indicies\": [\n",
    "                {\"label\": \"Author\", \"attr\": \"UniqueId\"},\n",
    "                {\"label\": \"Paper\", \"attr\": \"UniqueId\"}\n",
    "            ]\n",
    "        }\n",
    "    }\n",
    "}"
   ]
  },
  {
   "cell_type": "code",
   "execution_count": 5,
   "metadata": {
    "collapsed": false
   },
   "outputs": [
    {
     "name": "stdout",
     "output_type": "stream",
     "text": [
      "Statements per request: 500\n",
      "Requests per transactions: 25\n",
      "Created index: CREATE INDEX ON :Author(UniqueId);\n",
      "Created index: CREATE INDEX ON :Paper(UniqueId);\n",
      "Load complete: merged 58500 edges in 0:00:28.459678\n"
     ]
    }
   ],
   "source": [
    "px.execute_etl(arXiv_condmat_etl)"
   ]
  },
  {
   "cell_type": "markdown",
   "metadata": {},
   "source": [
    "**Not bad!** ~2000 merged edges/sec"
   ]
  },
  {
   "cell_type": "code",
   "execution_count": 5,
   "metadata": {
    "collapsed": false
   },
   "outputs": [
    {
     "name": "stdout",
     "output_type": "stream",
     "text": [
      "1 rows affected.\n",
      "1 rows affected.\n",
      "1 rows affected.\n"
     ]
    }
   ],
   "source": [
    "# This uses ipython-cypher by @versae.\n",
    "num_rels = %cypher match (auth:Author)-[rels:IN]->(pap:Paper) return count(rels)\n",
    "num_auths = %cypher match (auth:Author) return count(auth)\n",
    "num_papers = %cypher match (pap:Paper) return count(pap)"
   ]
  },
  {
   "cell_type": "code",
   "execution_count": 6,
   "metadata": {
    "collapsed": false
   },
   "outputs": [
    {
     "name": "stdout",
     "output_type": "stream",
     "text": [
      "+-------------+\n",
      "| count(rels) |\n",
      "+-------------+\n",
      "|    58595    |\n",
      "+-------------+ +-------------+\n",
      "| count(auth) |\n",
      "+-------------+\n",
      "|    16726    |\n",
      "+-------------+ +------------+\n",
      "| count(pap) |\n",
      "+------------+\n",
      "|   22015    |\n",
      "+------------+\n"
     ]
    }
   ],
   "source": [
    "print(num_rels, num_auths, num_papers)"
   ]
  },
  {
   "cell_type": "markdown",
   "metadata": {},
   "source": [
    "#### Load the graph into memory for manipulation."
   ]
  },
  {
   "cell_type": "code",
   "execution_count": 7,
   "metadata": {
    "collapsed": false
   },
   "outputs": [],
   "source": [
    "neo4j2nx_etl = {\n",
    "    \"extractor\": {\n",
    "        \"neo4j\": {\n",
    "            \"query\": \"match (n:Author)-[:IN]->(m:Paper) return n, m\",\n",
    "            \"uri\": \"http://localhost:7474/db/data\"\n",
    "        }\n",
    "    }, \n",
    "    \"transformers\": [\n",
    "        {\n",
    "            \"node\": {\n",
    "                \"pattern\": [{\"node\": {\"alias\": \"n\", \"unique\": \"UniqueId\"}}],\n",
    "                \"set\": [\n",
    "                    {\"key\": \"name\", \"value_lookup\": \"n.UniqueId\"},\n",
    "                    {\"key\": \"type\", \"value\": \"Author\"}\n",
    "                ]\n",
    "            },\n",
    "        },\n",
    "        {\n",
    "            \"node\": {\n",
    "                \"pattern\": [{\"node\": {\"alias\": \"m\", \"unique\": \"UniqueId\"}}],\n",
    "                \"set\": [\n",
    "                    {\"key\": \"name\", \"value_lookup\": \"m.UniqueId\"},\n",
    "                    {\"key\": \"type\", \"value\": \"Paper\"}\n",
    "                ]\n",
    "            },\n",
    "        },\n",
    "        {\n",
    "            \"edge\": {\n",
    "                \"pattern\": [\n",
    "                    {\"node\": {\"alias\": \"n\", \"unique\": \"UniqueId\"}}, \n",
    "                    {\"edge\": {}}, \n",
    "                    {\"node\": {\"alias\": \"m\", \"unique\": \"UniqueId\"}}\n",
    "                ] \n",
    "            }\n",
    "        }\n",
    "    ], \n",
    "    \"loader\": {\n",
    "        \"neo4j2nx\": {}\n",
    "    }\n",
    "}"
   ]
  },
  {
   "cell_type": "code",
   "execution_count": 8,
   "metadata": {
    "collapsed": false
   },
   "outputs": [],
   "source": [
    "graph = px.execute_etl(neo4j2nx_etl)"
   ]
  },
  {
   "cell_type": "code",
   "execution_count": 9,
   "metadata": {
    "collapsed": false
   },
   "outputs": [],
   "source": [
    "num_papers = len([n for n, k in graph.nodes(data=True) if k[\"type\"] == \"Paper\"])\n",
    "num_authors = len([n for n, k in graph.nodes(data=True) if k[\"type\"] == \"Author\"])"
   ]
  },
  {
   "cell_type": "code",
   "execution_count": 10,
   "metadata": {
    "collapsed": false
   },
   "outputs": [
    {
     "name": "stdout",
     "output_type": "stream",
     "text": [
      "58595 16726 22015\n"
     ]
    }
   ],
   "source": [
    "# Everything seems to be in order.\n",
    "print(len(graph.edges()), num_authors, num_papers)"
   ]
  },
  {
   "cell_type": "markdown",
   "metadata": {},
   "source": [
    "#### Project a one mode social network using Newman's method to calculate edge weight."
   ]
  },
  {
   "cell_type": "code",
   "execution_count": 11,
   "metadata": {
    "collapsed": false
   },
   "outputs": [],
   "source": [
    "p = px.Projection(graph)"
   ]
  },
  {
   "cell_type": "code",
   "execution_count": 12,
   "metadata": {
    "collapsed": false
   },
   "outputs": [],
   "source": [
    "subgraph = p.execute(\"\"\"\n",
    "    match (a1:Author)-(p:Paper)-(a2:Author)\n",
    "    project (a1)-(a2) method newman Paper\n",
    "    delete p\"\"\")"
   ]
  },
  {
   "cell_type": "code",
   "execution_count": 13,
   "metadata": {
    "collapsed": false
   },
   "outputs": [
    {
     "name": "stdout",
     "output_type": "stream",
     "text": [
      "16264 47594\n"
     ]
    }
   ],
   "source": [
    "print(len(subgraph.nodes()), len(subgraph.edges())) # ~500 authors that wrote a single paper solo."
   ]
  },
  {
   "cell_type": "code",
   "execution_count": 14,
   "metadata": {
    "collapsed": false,
    "scrolled": true
   },
   "outputs": [
    {
     "data": {
      "text/plain": [
       "count    47594.000000\n",
       "mean         0.571679\n",
       "std          0.809551\n",
       "min          0.058824\n",
       "25%          0.174242\n",
       "50%          0.333333\n",
       "75%          0.500000\n",
       "max         22.333333\n",
       "dtype: float64"
      ]
     },
     "execution_count": 14,
     "metadata": {},
     "output_type": "execute_result"
    }
   ],
   "source": [
    "eweight = pd.Series([a[\"weight\"] for (s, t, a) in subgraph.edges(data=True)])\n",
    "eweight.describe()"
   ]
  },
  {
   "cell_type": "markdown",
   "metadata": {},
   "source": [
    "#### Plot degree distribution of projected network."
   ]
  },
  {
   "cell_type": "code",
   "execution_count": 15,
   "metadata": {
    "collapsed": false
   },
   "outputs": [],
   "source": [
    "def prob_dist(itrbl):\n",
    "    count = {}\n",
    "    for i in itrbl:\n",
    "        count.setdefault(i, 0)\n",
    "        count[i] += 1\n",
    "    return pd.Series(count)"
   ]
  },
  {
   "cell_type": "code",
   "execution_count": 16,
   "metadata": {
    "collapsed": false
   },
   "outputs": [
    {
     "data": {
      "image/png": "[encoded data removed]",
      "text/plain": [
       "<matplotlib.figure.Figure at 0x7f099ff234a8>"
      ]
     },
     "metadata": {},
     "output_type": "display_data"
    }
   ],
   "source": [
    "deg_dist = prob_dist(nx.degree(subgraph).values())\n",
    "plt.scatter(deg_dist.index, deg_dist)\n",
    "plt.xscale(\"log\")\n",
    "plt.yscale(\"log\")"
   ]
  },
  {
   "cell_type": "code",
   "execution_count": 17,
   "metadata": {
    "collapsed": true
   },
   "outputs": [],
   "source": [
    "# Write to txtfile\n",
    "with open('output.txt', 'w') as f:\n",
    "    for s, t in subgraph.edges():\n",
    "        f.write(str(s) + '\\t' + str(t) + '\\n')"
   ]
  },
  {
   "cell_type": "markdown",
   "metadata": {
    "collapsed": true
   },
   "source": [
    "#### Load the social network into Titan using the gizmo driver.\n",
    "\n",
    "**Note:** This is just a quick demo to try out the driver, I've made no attempt to do any sort of batch loading/server tuning.\n",
    "\n",
    "You can get the Titan 0.0.9 [here](https://groups.google.com/forum/#!msg/aureliusgraphs/_onvDrvBEwk/lHCNMqefzacJ). It comes packaged with the TP3 Gremlin Server, unpack and...\n",
    "\n",
    "Fire up the Gremlin Server:\n",
    "\n",
    "```bash\n",
    "./bin/gremlin-server.sh \n",
    "```"
   ]
  },
  {
   "cell_type": "code",
   "execution_count": 18,
   "metadata": {
    "collapsed": false
   },
   "outputs": [],
   "source": [
    "def build_schema(gc):\n",
    "    script = \"\"\"\n",
    "        mgmt = g.openManagement();\n",
    "        uniqueId = mgmt.makePropertyKey('uniqueId').dataType(Integer.class).make();\n",
    "        mgmt.buildIndex('byId', Vertex.class).addKey(uniqueId).unique().buildCompositeIndex();\n",
    "        collabs=mgmt.makeEdgeLabel('collabs').make();\n",
    "        mgmt.commit();\"\"\"\n",
    "    task = gc.task(gc.submit, script,\n",
    "        consumer=lambda x: print(\"Commited tx with response code: {}\".format(x.status_code)))\n",
    "    gc.run_until_complete(task)\n",
    "    \n",
    "\n",
    "def load_edges(gc):\n",
    "    start = datetime.now()\n",
    "    script = \"\"\"     \n",
    "        getOrCreate = { id ->\n",
    "            def n = g.V().has('uniqueId', id)\n",
    "            if (n.hasNext()) {n.next()} else {g.addVertex(\"uniqueId\", id)}\n",
    "        }\n",
    "\n",
    "        new File('output.txt').eachLine {  \n",
    "            (fromVertex, toVertex) = it.split('\\t').collect(getOrCreate)\n",
    "            fromVertex.addEdge('collabs', toVertex)\n",
    "        }\n",
    "\n",
    "        g.tx().commit()\"\"\"\n",
    "    task = gc.task(gc.submit, script,\n",
    "        consumer=lambda x: print(\"Commited tx with response code: {}\".format(x.status_code)))\n",
    "    gc.run_until_complete(task)\n",
    "    print(\"Loaded in {}\".format(datetime.now() - start))\n",
    "\n",
    "    \n",
    "@asyncio.coroutine\n",
    "def count_nodes(gc):\n",
    "    yield from gc.submit(\"g.V().count()\", collect=False, consumer=lambda x: print(x))\n",
    "\n",
    "    \n",
    "@asyncio.coroutine\n",
    "def count_edges(gc):\n",
    "    yield from gc.submit(\"g.E().count()\", collect=False, consumer=lambda x: print(x))"
   ]
  },
  {
   "cell_type": "code",
   "execution_count": 19,
   "metadata": {
    "collapsed": false,
    "scrolled": false
   },
   "outputs": [],
   "source": [
    "gc = AsyncGremlinClient()"
   ]
  },
  {
   "cell_type": "code",
   "execution_count": 20,
   "metadata": {
    "collapsed": false
   },
   "outputs": [
    {
     "name": "stdout",
     "output_type": "stream",
     "text": [
      "Commited tx with response code: 200\n"
     ]
    }
   ],
   "source": [
    "build_schema(gc)"
   ]
  },
  {
   "cell_type": "code",
   "execution_count": 21,
   "metadata": {
    "collapsed": false
   },
   "outputs": [
    {
     "name": "stdout",
     "output_type": "stream",
     "text": [
      "Commited tx with response code: 200\n",
      "Loaded in 0:00:16.713325\n"
     ]
    }
   ],
   "source": [
    "load_edges(gc)"
   ]
  },
  {
   "cell_type": "code",
   "execution_count": 22,
   "metadata": {
    "collapsed": false
   },
   "outputs": [
    {
     "name": "stdout",
     "output_type": "stream",
     "text": [
      "[16264]\n"
     ]
    }
   ],
   "source": [
    "gc.run_until_complete(count_nodes(gc))"
   ]
  },
  {
   "cell_type": "code",
   "execution_count": 23,
   "metadata": {
    "collapsed": false
   },
   "outputs": [
    {
     "name": "stdout",
     "output_type": "stream",
     "text": [
      "[47594]\n"
     ]
    }
   ],
   "source": [
    "gc.run_until_complete(count_edges(gc))"
   ]
  },
  {
   "cell_type": "markdown",
   "metadata": {
    "collapsed": false
   },
   "source": [
    "####(I'm sure you can do that much faster with some config tricks, I'm not exactly a Gremlin expert either...)"
   ]
  }
 ],
 "metadata": {
  "kernelspec": {
   "display_name": "Python 3",
   "language": "python",
   "name": "python3"
  },
  "language_info": {
   "codemirror_mode": {
    "name": "ipython",
    "version": 3
   },
   "file_extension": ".py",
   "mimetype": "text/x-python",
   "name": "python",
   "nbconvert_exporter": "python",
   "pygments_lexer": "ipython3",
   "version": "3.4.0"
  }
 },
 "nbformat": 4,
 "nbformat_minor": 0
}
