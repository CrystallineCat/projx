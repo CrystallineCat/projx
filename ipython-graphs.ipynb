{
 "metadata": {
  "name": "",
  "signature": "sha256:3b1d78739f3eb1d791a50f485c8552241b0a65be754b930149ad4072a138e99d"
 },
 "nbformat": 3,
 "nbformat_minor": 0,
 "worksheets": [
  {
   "cells": [
    {
     "cell_type": "code",
     "collapsed": false,
     "input": [
      "%matplotlib inline\n",
      "%load_ext cypher"
     ],
     "language": "python",
     "metadata": {},
     "outputs": [],
     "prompt_number": 1
    },
    {
     "cell_type": "code",
     "collapsed": false,
     "input": [
      "import networkx as nx\n",
      "import pandas as pd\n",
      "import projx as px\n",
      "import matplotlib.pyplot as plt"
     ],
     "language": "python",
     "metadata": {},
     "outputs": [],
     "prompt_number": 2
    },
    {
     "cell_type": "code",
     "collapsed": false,
     "input": [
      "plt.rcParams['figure.figsize'] = 12, 7"
     ],
     "language": "python",
     "metadata": {},
     "outputs": [],
     "prompt_number": 3
    },
    {
     "cell_type": "code",
     "collapsed": false,
     "input": [
      "# The arXiv cond-mat data set: http://konect.uni-koblenz.de/networks/opsahl-collaboration\n",
      "arXiv_condmat_etl = {\n",
      "    \"extractor\": {\n",
      "        \"edgelist\": {\n",
      "            \"filename\": \"data/opsahl-collaboration/out.opsahl-collaboration\",\n",
      "            \"delim\": \" \",\n",
      "            \"pattern\": [\n",
      "                {\"node\": {\"alias\": \"n\"}},\n",
      "                {\"edge\": {}},\n",
      "                {\"node\": {\"alias\": \"m\"}}\n",
      "            ]\n",
      "        }\n",
      "    },\n",
      "    \"transformers\": [\n",
      "        {\n",
      "            \"edge\": {\n",
      "                \"pattern\": [\n",
      "                    {\"node\": {\"alias\": \"n\", \"label\": \"Author\"}},\n",
      "                    {\"edge\": {\"label\": \"IN\"}},\n",
      "                    {\"node\": {\"alias\": \"m\", \"label\": \"Paper\"}}\n",
      "                ]\n",
      "            }\n",
      "        }\n",
      "    ],\n",
      "    \"loader\": {\n",
      "        \"edgelist2neo4j\": {\n",
      "            \"uri\": \"http://localhost:7474/db/data\",\n",
      "            \"stmt_per_req\": 100,\n",
      "            \"req_per_tx\": 10\n",
      "        }\n",
      "    }\n",
      "}"
     ],
     "language": "python",
     "metadata": {},
     "outputs": [],
     "prompt_number": 4
    },
    {
     "cell_type": "code",
     "collapsed": false,
     "input": [
      "px.execute_etl(arXiv_condmat_etl)"
     ],
     "language": "python",
     "metadata": {},
     "outputs": [
      {
       "output_type": "stream",
       "stream": "stdout",
       "text": [
        "Load complete: 58500 edges in 0:59:44.234628\n"
       ]
      }
     ],
     "prompt_number": 5
    },
    {
     "cell_type": "code",
     "collapsed": false,
     "input": [
      "# This uses ipython-cypher by @versae.\n",
      "num_rels = %cypher match (auth:Author)-[rels:IN]->(pap:Paper) return count(rels)\n",
      "num_auths = %cypher match (auth:Author) return count(auth)"
     ],
     "language": "python",
     "metadata": {},
     "outputs": [
      {
       "output_type": "stream",
       "stream": "stdout",
       "text": [
        "1 rows affected.\n",
        "1 rows affected.\n"
       ]
      }
     ],
     "prompt_number": 6
    },
    {
     "cell_type": "code",
     "collapsed": false,
     "input": [
      "print num_rels, num_auths"
     ],
     "language": "python",
     "metadata": {},
     "outputs": [
      {
       "output_type": "stream",
       "stream": "stdout",
       "text": [
        "+-------------+\n",
        "| count(rels) |\n",
        "+-------------+\n",
        "|    58595    |\n",
        "+-------------+ +-------------+\n",
        "| count(auth) |\n",
        "+-------------+\n",
        "|    16726    |\n",
        "+-------------+\n"
       ]
      }
     ],
     "prompt_number": 7
    },
    {
     "cell_type": "code",
     "collapsed": false,
     "input": [
      "neo4j2nx_etl = {\n",
      "    \"extractor\": {\n",
      "        \"neo4j\": {\n",
      "            \"query\": \"match (n:Author)--(m:Paper) return n, m\",\n",
      "            \"uri\": \"http://localhost:7474/db/data\"\n",
      "        }\n",
      "    }, \n",
      "    \"transformers\": [\n",
      "        {\n",
      "            \"node\": {\n",
      "                \"pattern\": [{\"node\": {\"alias\": \"n\", \"unique\": \"UniqueId\"}}],\n",
      "                \"set\": [\n",
      "                    {\"key\": \"name\", \"value_lookup\": \"n.UniqueId\"},\n",
      "                    {\"key\": \"type\", \"value\": \"Author\"}\n",
      "                ]\n",
      "            },\n",
      "        },\n",
      "        {\n",
      "            \"node\": {\n",
      "                \"pattern\": [{\"node\": {\"alias\": \"m\", \"unique\": \"UniqueId\"}}],\n",
      "                \"set\": [\n",
      "                    {\"key\": \"name\", \"value_lookup\": \"m.UniqueId\"},\n",
      "                    {\"key\": \"type\", \"value\": \"Paper\"}\n",
      "                ]\n",
      "            },\n",
      "        },\n",
      "        {\n",
      "            \"edge\": {\n",
      "                \"pattern\": [\n",
      "                    {\"node\": {\"alias\": \"n\", \"unique\": \"UniqueId\"}}, \n",
      "                    {\"edge\": {}}, \n",
      "                    {\"node\": {\"alias\": \"m\", \"unique\": \"UniqueId\"}}\n",
      "                ] \n",
      "            }\n",
      "        }\n",
      "    ], \n",
      "    \"loader\": {\n",
      "        \"neo4j2nx\": {}\n",
      "    }\n",
      "}"
     ],
     "language": "python",
     "metadata": {},
     "outputs": [],
     "prompt_number": 8
    },
    {
     "cell_type": "code",
     "collapsed": false,
     "input": [
      "graph = px.execute_etl(neo4j2nx_etl)"
     ],
     "language": "python",
     "metadata": {},
     "outputs": [],
     "prompt_number": 9
    },
    {
     "cell_type": "code",
     "collapsed": false,
     "input": [
      "print(len(graph.edges()))"
     ],
     "language": "python",
     "metadata": {},
     "outputs": [
      {
       "output_type": "stream",
       "stream": "stdout",
       "text": [
        "58586\n"
       ]
      }
     ],
     "prompt_number": 10
    },
    {
     "cell_type": "code",
     "collapsed": false,
     "input": [
      "p = px.Projection(graph)"
     ],
     "language": "python",
     "metadata": {},
     "outputs": [],
     "prompt_number": 11
    },
    {
     "cell_type": "code",
     "collapsed": false,
     "input": [
      "subgraph = p.execute(\"\"\"\n",
      "    match   (a1:Author)-(p:Paper)-(a2:Author)\n",
      "    project (a1)-(a2)\n",
      "    method newman Paper\n",
      "    delete p\n",
      "\"\"\")"
     ],
     "language": "python",
     "metadata": {},
     "outputs": [],
     "prompt_number": 12
    },
    {
     "cell_type": "code",
     "collapsed": false,
     "input": [
      "len(subgraph.nodes())  # Lots of authors that wrote a single paper solo."
     ],
     "language": "python",
     "metadata": {},
     "outputs": [
      {
       "metadata": {},
       "output_type": "pyout",
       "prompt_number": 13,
       "text": [
        "10504"
       ]
      }
     ],
     "prompt_number": 13
    },
    {
     "cell_type": "code",
     "collapsed": false,
     "input": [
      "eweight = pd.Series([a[\"weight\"] for (s, t, a) in subgraph.edges(data=True)])\n",
      "eweight.describe()"
     ],
     "language": "python",
     "metadata": {},
     "outputs": [
      {
       "metadata": {},
       "output_type": "pyout",
       "prompt_number": 14,
       "text": [
        "count    29436.000000\n",
        "mean         0.379179\n",
        "std          0.456651\n",
        "min          0.058824\n",
        "25%          0.166667\n",
        "50%          0.250000\n",
        "75%          0.500000\n",
        "max         14.833333\n",
        "dtype: float64"
       ]
      }
     ],
     "prompt_number": 14
    },
    {
     "cell_type": "code",
     "collapsed": false,
     "input": [
      "eweight.hist()"
     ],
     "language": "python",
     "metadata": {},
     "outputs": [
      {
       "metadata": {},
       "output_type": "pyout",
       "prompt_number": 15,
       "text": [
        "<matplotlib.axes._subplots.AxesSubplot at 0x7fabacb7d490>"
       ]
      },
      {
       "metadata": {},
       "output_type": "display_data",
       "png": "[encoded data removed]",
       "text": [
        "<matplotlib.figure.Figure at 0x7fabacd5ca50>"
       ]
      }
     ],
     "prompt_number": 15
    },
    {
     "cell_type": "code",
     "collapsed": false,
     "input": [
      "def prob_dist(itrbl):\n",
      "    count = {}\n",
      "    for i in itrbl:\n",
      "        count.setdefault(i, 0)\n",
      "        count[i] += 1\n",
      "    return pd.Series(count)"
     ],
     "language": "python",
     "metadata": {},
     "outputs": [],
     "prompt_number": 16
    },
    {
     "cell_type": "code",
     "collapsed": false,
     "input": [
      "deg_dist = prob_dist(nx.degree(subgraph).values())\n",
      "plt.scatter(deg_dist.index, deg_dist)\n",
      "plt.xscale(\"log\")\n",
      "plt.yscale(\"log\")"
     ],
     "language": "python",
     "metadata": {},
     "outputs": [
      {
       "metadata": {},
       "output_type": "display_data",
       "png": "[encoded data removed]",
       "text": [
        "<matplotlib.figure.Figure at 0x7fabacd5ce50>"
       ]
      }
     ],
     "prompt_number": 17
    }
   ],
   "metadata": {}
  }
 ]
}